{
 "cells": [
  {
   "cell_type": "code",
   "execution_count": 2,
   "id": "150ceafb",
   "metadata": {},
   "outputs": [
    {
     "name": "stdout",
     "output_type": "stream",
     "text": [
      "Collecting paho.mqtt\n",
      "  Downloading paho-mqtt-1.6.1.tar.gz (99 kB)\n",
      "  Preparing metadata (setup.py): started\n",
      "  Preparing metadata (setup.py): finished with status 'done'\n",
      "Building wheels for collected packages: paho.mqtt\n",
      "  Building wheel for paho.mqtt (setup.py): started\n",
      "  Building wheel for paho.mqtt (setup.py): finished with status 'done'\n",
      "  Created wheel for paho.mqtt: filename=paho_mqtt-1.6.1-py3-none-any.whl size=65422 sha256=cd17916ffdd068a673ce49b4f03396a5260c4698498ac66ac368de082ad78276\n",
      "  Stored in directory: c:\\users\\hebbar\\appdata\\local\\pip\\cache\\wheels\\0f\\90\\29\\db29bb8ddc98ec5f2363b959130c9ddbcf5cfdb4a00b6184dd\n",
      "Successfully built paho.mqtt\n",
      "Installing collected packages: paho.mqtt\n",
      "Successfully installed paho.mqtt-1.6.1\n"
     ]
    }
   ],
   "source": [
    "!pip install paho.mqtt"
   ]
  },
  {
   "cell_type": "code",
   "execution_count": 4,
   "id": "31a3b478",
   "metadata": {},
   "outputs": [
    {
     "name": "stdout",
     "output_type": "stream",
     "text": [
      "Just publish 5to topic Temperature.\n",
      "Just publish 8to topic Temperature.\n",
      "Just publish 4to topic Temperature.\n",
      "Just publish 6to topic Temperature.\n",
      "Just publish 1to topic Temperature.\n",
      "Just publish 3to topic Temperature.\n",
      "Just publish 3to topic Temperature.\n",
      "Just publish 9to topic Temperature.\n",
      "Just publish 8to topic Temperature.\n",
      "Just publish 4to topic Temperature.\n",
      "Just publish 0to topic Temperature.\n",
      "Just publish 2to topic Temperature.\n",
      "Just publish 5to topic Temperature.\n",
      "Just publish 7to topic Temperature.\n",
      "Just publish 6to topic Temperature.\n",
      "Just publish 1to topic Temperature.\n",
      "Just publish 2to topic Temperature.\n",
      "Just publish 9to topic Temperature.\n",
      "Just publish 6to topic Temperature.\n",
      "Just publish 5to topic Temperature.\n",
      "Just publish 6to topic Temperature.\n",
      "Just publish 8to topic Temperature.\n",
      "Just publish 7to topic Temperature.\n",
      "Just publish 4to topic Temperature.\n",
      "Just publish 5to topic Temperature.\n",
      "Just publish 8to topic Temperature.\n",
      "Just publish 8to topic Temperature.\n",
      "Just publish 9to topic Temperature.\n",
      "Just publish 3to topic Temperature.\n",
      "Just publish 9to topic Temperature.\n",
      "Just publish 1to topic Temperature.\n",
      "Just publish 5to topic Temperature.\n"
     ]
    },
    {
     "ename": "KeyboardInterrupt",
     "evalue": "",
     "output_type": "error",
     "traceback": [
      "\u001b[1;31m---------------------------------------------------------------------------\u001b[0m",
      "\u001b[1;31mKeyboardInterrupt\u001b[0m                         Traceback (most recent call last)",
      "\u001b[1;32m~\\AppData\\Local\\Temp/ipykernel_8628/337405224.py\u001b[0m in \u001b[0;36m<module>\u001b[1;34m\u001b[0m\n\u001b[0;32m      9\u001b[0m     \u001b[0mclient\u001b[0m\u001b[1;33m.\u001b[0m\u001b[0mpublish\u001b[0m\u001b[1;33m(\u001b[0m\u001b[1;34m\"Temperature \"\u001b[0m\u001b[1;33m,\u001b[0m \u001b[0mrandNumber\u001b[0m\u001b[1;33m)\u001b[0m\u001b[1;33m\u001b[0m\u001b[1;33m\u001b[0m\u001b[0m\n\u001b[0;32m     10\u001b[0m     \u001b[0mprint\u001b[0m\u001b[1;33m(\u001b[0m\u001b[1;34m\"Just publish \"\u001b[0m \u001b[1;33m+\u001b[0m \u001b[0mstr\u001b[0m\u001b[1;33m(\u001b[0m\u001b[0mrandNumber\u001b[0m\u001b[1;33m)\u001b[0m \u001b[1;33m+\u001b[0m \u001b[1;34m\"to topic Temperature.\"\u001b[0m\u001b[1;33m)\u001b[0m\u001b[1;33m\u001b[0m\u001b[1;33m\u001b[0m\u001b[0m\n\u001b[1;32m---> 11\u001b[1;33m     \u001b[0mtime\u001b[0m\u001b[1;33m.\u001b[0m\u001b[0msleep\u001b[0m\u001b[1;33m(\u001b[0m\u001b[1;36m1\u001b[0m\u001b[1;33m)\u001b[0m\u001b[1;33m\u001b[0m\u001b[1;33m\u001b[0m\u001b[0m\n\u001b[0m",
      "\u001b[1;31mKeyboardInterrupt\u001b[0m: "
     ]
    }
   ],
   "source": [
    "import paho.mqtt.client as mqtt\n",
    "from random import randrange, uniform\n",
    "import time\n",
    "mqttBroker = \"mqtt.eclipseprojects.io\"\n",
    "client = mqtt.Client(\"TemperatureOutside\")\n",
    "client.connect(mqttBroker)\n",
    "while True:\n",
    "    randNumber = randrange(10)\n",
    "    client.publish(\"Temperature \", randNumber)\n",
    "    print(\"Just publish \" + str(randNumber) + \"to topic Temperature.\")\n",
    "    time.sleep(1)"
   ]
  },
  {
   "cell_type": "code",
   "execution_count": null,
   "id": "2fb3843d",
   "metadata": {},
   "outputs": [],
   "source": []
  },
  {
   "cell_type": "code",
   "execution_count": null,
   "id": "34318274",
   "metadata": {},
   "outputs": [],
   "source": []
  }
 ],
 "metadata": {
  "kernelspec": {
   "display_name": "Python 3 (ipykernel)",
   "language": "python",
   "name": "python3"
  },
  "language_info": {
   "codemirror_mode": {
    "name": "ipython",
    "version": 3
   },
   "file_extension": ".py",
   "mimetype": "text/x-python",
   "name": "python",
   "nbconvert_exporter": "python",
   "pygments_lexer": "ipython3",
   "version": "3.9.6"
  }
 },
 "nbformat": 4,
 "nbformat_minor": 5
}
